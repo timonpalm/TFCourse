{
  "nbformat": 4,
  "nbformat_minor": 0,
  "metadata": {
    "colab": {
      "provenance": [],
      "gpuType": "T4",
      "authorship_tag": "ABX9TyP8dc9+4ce9BimQzLYoFHtw",
      "include_colab_link": true
    },
    "kernelspec": {
      "name": "python3",
      "display_name": "Python 3"
    },
    "language_info": {
      "name": "python"
    },
    "accelerator": "GPU"
  },
  "cells": [
    {
      "cell_type": "markdown",
      "metadata": {
        "id": "view-in-github",
        "colab_type": "text"
      },
      "source": [
        "<a href=\"https://colab.research.google.com/github/timonpalm/TFCourse/blob/main/05_transfer_learning_2.ipynb\" target=\"_parent\"><img src=\"https://colab.research.google.com/assets/colab-badge.svg\" alt=\"Open In Colab\"/></a>"
      ]
    },
    {
      "cell_type": "markdown",
      "source": [
        "# Transfer learning: Fine-Tuning"
      ],
      "metadata": {
        "id": "rXql3BKZT7pt"
      }
    },
    {
      "cell_type": "code",
      "source": [
        "! nvidia-smi"
      ],
      "metadata": {
        "colab": {
          "base_uri": "https://localhost:8080/"
        },
        "id": "hXNIhMzsUIde",
        "outputId": "58e51431-2b8e-4b63-a5f6-83024f723aca"
      },
      "execution_count": 2,
      "outputs": [
        {
          "output_type": "stream",
          "name": "stdout",
          "text": [
            "Mon Nov 13 16:27:19 2023       \n",
            "+-----------------------------------------------------------------------------+\n",
            "| NVIDIA-SMI 525.105.17   Driver Version: 525.105.17   CUDA Version: 12.0     |\n",
            "|-------------------------------+----------------------+----------------------+\n",
            "| GPU  Name        Persistence-M| Bus-Id        Disp.A | Volatile Uncorr. ECC |\n",
            "| Fan  Temp  Perf  Pwr:Usage/Cap|         Memory-Usage | GPU-Util  Compute M. |\n",
            "|                               |                      |               MIG M. |\n",
            "|===============================+======================+======================|\n",
            "|   0  Tesla T4            Off  | 00000000:00:04.0 Off |                    0 |\n",
            "| N/A   47C    P8    10W /  70W |      0MiB / 15360MiB |      0%      Default |\n",
            "|                               |                      |                  N/A |\n",
            "+-------------------------------+----------------------+----------------------+\n",
            "                                                                               \n",
            "+-----------------------------------------------------------------------------+\n",
            "| Processes:                                                                  |\n",
            "|  GPU   GI   CI        PID   Type   Process name                  GPU Memory |\n",
            "|        ID   ID                                                   Usage      |\n",
            "|=============================================================================|\n",
            "|  No running processes found                                                 |\n",
            "+-----------------------------------------------------------------------------+\n"
          ]
        }
      ]
    },
    {
      "cell_type": "code",
      "source": [
        "#! wget https://raw.githubusercontent.com/mrdbourke/tensorflow-deep-learning/main/extras/helper_functions.py"
      ],
      "metadata": {
        "id": "c3YJgTaRUQL9"
      },
      "execution_count": 3,
      "outputs": []
    },
    {
      "cell_type": "code",
      "source": [
        "# import helper function\n",
        "from helper_functions import create_tensorboard_callback, plot_loss_curves, unzip_data, walk_through_dir"
      ],
      "metadata": {
        "id": "EewDMiG8U4HN"
      },
      "execution_count": 4,
      "outputs": []
    },
    {
      "cell_type": "markdown",
      "source": [
        "## Let's get some data"
      ],
      "metadata": {
        "id": "PSjvc4rqVUfi"
      }
    },
    {
      "cell_type": "code",
      "source": [
        "#!wget https://storage.googleapis.com/ztm_tf_course/food_vision/10_food_classes_10_percent.zip\n",
        "\n",
        "#unzip_data(\"10_food_classes_10_percent.zip\")"
      ],
      "metadata": {
        "id": "efRqhEY6Vx2E"
      },
      "execution_count": 5,
      "outputs": []
    },
    {
      "cell_type": "code",
      "source": [
        "walk_through_dir(\"10_food_classes_10_percent\")"
      ],
      "metadata": {
        "colab": {
          "base_uri": "https://localhost:8080/"
        },
        "id": "Px1D5SfKWpGM",
        "outputId": "5b6fe2a6-491c-4a64-c954-f79c9be6b5c6"
      },
      "execution_count": 6,
      "outputs": [
        {
          "output_type": "stream",
          "name": "stdout",
          "text": [
            "There are 2 directories and 0 images in '10_food_classes_10_percent'.\n",
            "There are 10 directories and 0 images in '10_food_classes_10_percent/test'.\n",
            "There are 0 directories and 250 images in '10_food_classes_10_percent/test/chicken_wings'.\n",
            "There are 0 directories and 250 images in '10_food_classes_10_percent/test/ice_cream'.\n",
            "There are 0 directories and 250 images in '10_food_classes_10_percent/test/hamburger'.\n",
            "There are 0 directories and 250 images in '10_food_classes_10_percent/test/steak'.\n",
            "There are 0 directories and 250 images in '10_food_classes_10_percent/test/fried_rice'.\n",
            "There are 0 directories and 250 images in '10_food_classes_10_percent/test/pizza'.\n",
            "There are 0 directories and 250 images in '10_food_classes_10_percent/test/ramen'.\n",
            "There are 0 directories and 250 images in '10_food_classes_10_percent/test/sushi'.\n",
            "There are 0 directories and 250 images in '10_food_classes_10_percent/test/chicken_curry'.\n",
            "There are 0 directories and 250 images in '10_food_classes_10_percent/test/grilled_salmon'.\n",
            "There are 10 directories and 0 images in '10_food_classes_10_percent/train'.\n",
            "There are 0 directories and 75 images in '10_food_classes_10_percent/train/chicken_wings'.\n",
            "There are 0 directories and 75 images in '10_food_classes_10_percent/train/ice_cream'.\n",
            "There are 0 directories and 75 images in '10_food_classes_10_percent/train/hamburger'.\n",
            "There are 0 directories and 75 images in '10_food_classes_10_percent/train/steak'.\n",
            "There are 0 directories and 75 images in '10_food_classes_10_percent/train/fried_rice'.\n",
            "There are 0 directories and 75 images in '10_food_classes_10_percent/train/pizza'.\n",
            "There are 0 directories and 75 images in '10_food_classes_10_percent/train/ramen'.\n",
            "There are 0 directories and 75 images in '10_food_classes_10_percent/train/sushi'.\n",
            "There are 0 directories and 75 images in '10_food_classes_10_percent/train/chicken_curry'.\n",
            "There are 0 directories and 75 images in '10_food_classes_10_percent/train/grilled_salmon'.\n"
          ]
        }
      ]
    },
    {
      "cell_type": "code",
      "source": [
        "train_dir = \"10_food_classes_10_percent/train\"\n",
        "test_dir = \"10_food_classes_10_percent/test\""
      ],
      "metadata": {
        "id": "0En-Te21WwP0"
      },
      "execution_count": 7,
      "outputs": []
    },
    {
      "cell_type": "code",
      "source": [
        "import tensorflow as tf\n",
        "\n",
        "IMG_SIZE = (224,224)\n",
        "BATCH_SIZE = 32\n",
        "train_data_10_percent = tf.keras.preprocessing.image_dataset_from_directory(train_dir,\n",
        "                                                                            image_size=IMG_SIZE,\n",
        "                                                                            label_mode=\"categorical\",\n",
        "                                                                            batch_size=BATCH_SIZE)\n",
        "\n",
        "test_data = tf.keras.preprocessing.image_dataset_from_directory(test_dir,\n",
        "                                                                image_size=IMG_SIZE,\n",
        "                                                                label_mode=\"categorical\",\n",
        "                                                                batch_size=BATCH_SIZE\n",
        "                                                                )"
      ],
      "metadata": {
        "colab": {
          "base_uri": "https://localhost:8080/"
        },
        "id": "6uZko6NLXF-T",
        "outputId": "3adf8151-e706-42d4-d1d1-ab3f8601d363"
      },
      "execution_count": 8,
      "outputs": [
        {
          "output_type": "stream",
          "name": "stdout",
          "text": [
            "Found 750 files belonging to 10 classes.\n",
            "Found 2500 files belonging to 10 classes.\n"
          ]
        }
      ]
    },
    {
      "cell_type": "code",
      "source": [
        "train_data_10_percent"
      ],
      "metadata": {
        "colab": {
          "base_uri": "https://localhost:8080/"
        },
        "id": "hSIO3bZsYR23",
        "outputId": "6aca219f-7dfe-4f4d-a8a1-a5ecc3e5d8c3"
      },
      "execution_count": 9,
      "outputs": [
        {
          "output_type": "execute_result",
          "data": {
            "text/plain": [
              "<_PrefetchDataset element_spec=(TensorSpec(shape=(None, 224, 224, 3), dtype=tf.float32, name=None), TensorSpec(shape=(None, 10), dtype=tf.float32, name=None))>"
            ]
          },
          "metadata": {},
          "execution_count": 9
        }
      ]
    },
    {
      "cell_type": "code",
      "source": [
        "train_data_10_percent.class_names"
      ],
      "metadata": {
        "colab": {
          "base_uri": "https://localhost:8080/"
        },
        "id": "B6MzAGIEYW4y",
        "outputId": "69d0b441-6195-4a39-bf66-5ee042fc5649"
      },
      "execution_count": 10,
      "outputs": [
        {
          "output_type": "execute_result",
          "data": {
            "text/plain": [
              "['chicken_curry',\n",
              " 'chicken_wings',\n",
              " 'fried_rice',\n",
              " 'grilled_salmon',\n",
              " 'hamburger',\n",
              " 'ice_cream',\n",
              " 'pizza',\n",
              " 'ramen',\n",
              " 'steak',\n",
              " 'sushi']"
            ]
          },
          "metadata": {},
          "execution_count": 10
        }
      ]
    },
    {
      "cell_type": "code",
      "source": [
        "for images, labels in train_data_10_percent.take(1):\n",
        "  print(images, labels)"
      ],
      "metadata": {
        "colab": {
          "base_uri": "https://localhost:8080/"
        },
        "id": "qubycnsvY6xZ",
        "outputId": "d6977c1d-c857-424f-e712-886a275adb80"
      },
      "execution_count": 11,
      "outputs": [
        {
          "output_type": "stream",
          "name": "stdout",
          "text": [
            "tf.Tensor(\n",
            "[[[[2.54000000e+02 2.54000000e+02 2.54000000e+02]\n",
            "   [2.54000000e+02 2.54000000e+02 2.54000000e+02]\n",
            "   [2.54000000e+02 2.54000000e+02 2.54000000e+02]\n",
            "   ...\n",
            "   [1.69495239e+02 1.48505341e+02 1.00500259e+02]\n",
            "   [1.42101303e+02 1.07412453e+02 6.87441559e+01]\n",
            "   [7.09336472e+01 2.59335766e+01 4.59158778e-01]]\n",
            "\n",
            "  [[2.54000000e+02 2.54000000e+02 2.54000000e+02]\n",
            "   [2.54000000e+02 2.54000000e+02 2.54000000e+02]\n",
            "   [2.54000000e+02 2.54000000e+02 2.54000000e+02]\n",
            "   ...\n",
            "   [1.64882782e+02 1.44852097e+02 9.17245178e+01]\n",
            "   [1.69147629e+02 1.38071045e+02 9.22088776e+01]\n",
            "   [8.07639160e+01 4.24067039e+01 1.28105288e+01]]\n",
            "\n",
            "  [[2.54000000e+02 2.54000000e+02 2.54000000e+02]\n",
            "   [2.54000000e+02 2.54000000e+02 2.54000000e+02]\n",
            "   [2.54000000e+02 2.54000000e+02 2.54000000e+02]\n",
            "   ...\n",
            "   [1.62055908e+02 1.45504883e+02 8.49589005e+01]\n",
            "   [2.00040543e+02 1.76341492e+02 1.21310966e+02]\n",
            "   [1.08978302e+02 7.89118805e+01 3.41518860e+01]]\n",
            "\n",
            "  ...\n",
            "\n",
            "  [[2.53785706e+02 2.54785706e+02 2.23785706e+02]\n",
            "   [2.53785706e+02 2.54000000e+02 2.25357117e+02]\n",
            "   [2.54000000e+02 2.54000000e+02 2.26428574e+02]\n",
            "   ...\n",
            "   [2.41239578e+02 2.40239578e+02 2.09453842e+02]\n",
            "   [2.33071442e+02 2.33071442e+02 1.99071442e+02]\n",
            "   [2.35505066e+02 2.32505066e+02 1.97505066e+02]]\n",
            "\n",
            "  [[2.52071411e+02 2.53071411e+02 2.21142822e+02]\n",
            "   [2.52933670e+02 2.53933670e+02 2.22005081e+02]\n",
            "   [2.53270386e+02 2.54000000e+02 2.23841782e+02]\n",
            "   ...\n",
            "   [2.38117218e+02 2.37846848e+02 2.04673279e+02]\n",
            "   [2.34729599e+02 2.34729599e+02 1.98872421e+02]\n",
            "   [2.35331665e+02 2.33260254e+02 1.95474487e+02]]\n",
            "\n",
            "  [[2.51000000e+02 2.52000000e+02 2.18000000e+02]\n",
            "   [2.51954086e+02 2.52954086e+02 2.19668381e+02]\n",
            "   [2.53214279e+02 2.54137756e+02 2.23367340e+02]\n",
            "   ...\n",
            "   [2.38795898e+02 2.38719376e+02 2.03377472e+02]\n",
            "   [2.38622375e+02 2.39265228e+02 1.99979523e+02]\n",
            "   [2.36586823e+02 2.34586823e+02 1.94301117e+02]]]\n",
            "\n",
            "\n",
            " [[[0.00000000e+00 0.00000000e+00 0.00000000e+00]\n",
            "   [0.00000000e+00 0.00000000e+00 0.00000000e+00]\n",
            "   [0.00000000e+00 0.00000000e+00 0.00000000e+00]\n",
            "   ...\n",
            "   [1.30000000e+01 1.40000000e+01 8.00000000e+00]\n",
            "   [1.30000000e+01 1.40000000e+01 8.00000000e+00]\n",
            "   [1.30000000e+01 1.40000000e+01 8.00000000e+00]]\n",
            "\n",
            "  [[0.00000000e+00 0.00000000e+00 0.00000000e+00]\n",
            "   [0.00000000e+00 0.00000000e+00 0.00000000e+00]\n",
            "   [0.00000000e+00 0.00000000e+00 0.00000000e+00]\n",
            "   ...\n",
            "   [1.37857056e+01 1.40000000e+01 6.00000000e+00]\n",
            "   [1.30000000e+01 1.40000000e+01 6.00000000e+00]\n",
            "   [1.30000000e+01 1.40000000e+01 6.00000000e+00]]\n",
            "\n",
            "  [[0.00000000e+00 0.00000000e+00 0.00000000e+00]\n",
            "   [0.00000000e+00 0.00000000e+00 0.00000000e+00]\n",
            "   [0.00000000e+00 0.00000000e+00 0.00000000e+00]\n",
            "   ...\n",
            "   [1.44285717e+01 1.37857141e+01 6.00000000e+00]\n",
            "   [1.44285717e+01 1.37857141e+01 6.00000000e+00]\n",
            "   [1.40000000e+01 1.40000000e+01 6.00000000e+00]]\n",
            "\n",
            "  ...\n",
            "\n",
            "  [[9.32437820e+01 9.10295181e+01 7.76009903e+01]\n",
            "   [1.36269730e+02 1.32540131e+02 1.19698349e+02]\n",
            "   [1.65081390e+02 1.62081390e+02 1.46652863e+02]\n",
            "   ...\n",
            "   [8.38254471e+01 7.78254471e+01 6.38255081e+01]\n",
            "   [4.39425163e+01 4.07282829e+01 2.55139885e+01]\n",
            "   [1.70607414e+01 1.42852306e+01 3.89252186e+00]]\n",
            "\n",
            "  [[5.15816593e+00 2.11223912e+00 0.00000000e+00]\n",
            "   [1.94742889e+01 1.64742889e+01 9.68353653e+00]\n",
            "   [6.42901840e+01 6.05044708e+01 5.01065445e+01]\n",
            "   ...\n",
            "   [1.34335117e+01 9.74986744e+00 1.45914698e+00]\n",
            "   [4.40292740e+00 4.27033949e+00 0.00000000e+00]\n",
            "   [1.52548468e+00 2.79077888e+00 0.00000000e+00]]\n",
            "\n",
            "  [[5.97438240e+00 1.97438264e+00 8.72401714e-01]\n",
            "   [6.29575920e+00 2.69885254e+00 5.96906424e-01]\n",
            "   [8.98481083e+00 5.98481083e+00 1.12255836e+00]\n",
            "   ...\n",
            "   [3.28576660e+00 1.55626512e+00 0.00000000e+00]\n",
            "   [3.23986197e+00 4.09703970e+00 0.00000000e+00]\n",
            "   [9.43876624e-01 2.89792180e+00 0.00000000e+00]]]\n",
            "\n",
            "\n",
            " [[[1.29943878e+02 1.36943878e+02 1.03943878e+02]\n",
            "   [1.30500000e+02 1.37168365e+02 1.07163261e+02]\n",
            "   [1.34198990e+02 1.39984695e+02 1.14841835e+02]\n",
            "   ...\n",
            "   [7.39188614e+01 7.35616531e+01 5.33473892e+01]\n",
            "   [8.87037811e+01 8.77037811e+01 6.97037811e+01]\n",
            "   [6.39797707e+01 6.29797707e+01 4.49797707e+01]]\n",
            "\n",
            "  [[1.34168381e+02 1.43168381e+02 1.12168365e+02]\n",
            "   [1.33066330e+02 1.42066330e+02 1.13066322e+02]\n",
            "   [1.31943878e+02 1.40729584e+02 1.14586739e+02]\n",
            "   ...\n",
            "   [7.80765228e+01 8.03469086e+01 5.93469086e+01]\n",
            "   [1.05234451e+02 1.06234451e+02 8.82344513e+01]\n",
            "   [7.74082031e+01 7.84082031e+01 6.04082031e+01]]\n",
            "\n",
            "  [[1.32642853e+02 1.41642853e+02 1.10642860e+02]\n",
            "   [1.29826523e+02 1.38826523e+02 1.09826530e+02]\n",
            "   [1.33719391e+02 1.42505112e+02 1.16362244e+02]\n",
            "   ...\n",
            "   [9.51581421e+01 9.97295685e+01 7.95152817e+01]\n",
            "   [9.43470154e+01 9.69184418e+01 7.81327286e+01]\n",
            "   [9.29945755e+01 9.55660019e+01 7.67802887e+01]]\n",
            "\n",
            "  ...\n",
            "\n",
            "  [[1.24994736e+02 1.34994736e+02 1.10209030e+02]\n",
            "   [1.37198837e+02 1.47198837e+02 1.23198845e+02]\n",
            "   [1.46453979e+02 1.55545822e+02 1.35402985e+02]\n",
            "   ...\n",
            "   [0.00000000e+00 3.00000000e+00 0.00000000e+00]\n",
            "   [0.00000000e+00 3.00000000e+00 0.00000000e+00]\n",
            "   [0.00000000e+00 3.00000000e+00 0.00000000e+00]]\n",
            "\n",
            "  [[9.14027023e+01 1.01402702e+02 7.74027023e+01]\n",
            "   [1.05933319e+02 1.15071060e+02 9.36578522e+01]\n",
            "   [1.22254807e+02 1.31683380e+02 1.13111954e+02]\n",
            "   ...\n",
            "   [0.00000000e+00 3.00000000e+00 0.00000000e+00]\n",
            "   [0.00000000e+00 3.00000000e+00 0.00000000e+00]\n",
            "   [0.00000000e+00 3.00000000e+00 0.00000000e+00]]\n",
            "\n",
            "  [[7.08877869e+01 8.08877869e+01 5.68877831e+01]\n",
            "   [7.70663834e+01 8.60663834e+01 6.50663757e+01]\n",
            "   [8.88623123e+01 9.82908859e+01 7.97194595e+01]\n",
            "   ...\n",
            "   [0.00000000e+00 3.00000000e+00 0.00000000e+00]\n",
            "   [0.00000000e+00 3.00000000e+00 0.00000000e+00]\n",
            "   [0.00000000e+00 3.00000000e+00 0.00000000e+00]]]\n",
            "\n",
            "\n",
            " ...\n",
            "\n",
            "\n",
            " [[[1.01142860e+02 9.91428604e+01 7.81428604e+01]\n",
            "   [8.62142868e+01 8.52142868e+01 6.52142868e+01]\n",
            "   [6.47142868e+01 6.55000000e+01 5.03571434e+01]\n",
            "   ...\n",
            "   [1.09214264e+02 9.42142639e+01 6.12142639e+01]\n",
            "   [1.08974487e+02 9.39744873e+01 6.09744835e+01]\n",
            "   [1.08000000e+02 9.30000000e+01 6.00000000e+01]]\n",
            "\n",
            "  [[1.03428574e+02 1.01428574e+02 8.04285736e+01]\n",
            "   [8.85000000e+01 8.75000000e+01 6.75000000e+01]\n",
            "   [6.70153046e+01 6.78010178e+01 5.26581650e+01]\n",
            "   ...\n",
            "   [1.10000000e+02 9.50000000e+01 6.20000000e+01]\n",
            "   [1.09000000e+02 9.40000000e+01 6.10000000e+01]\n",
            "   [1.09000000e+02 9.40000000e+01 6.10000000e+01]]\n",
            "\n",
            "  [[1.04280617e+02 1.01637756e+02 7.88520432e+01]\n",
            "   [9.07142868e+01 8.77857132e+01 6.86428604e+01]\n",
            "   [6.89030609e+01 6.75459213e+01 5.27602043e+01]\n",
            "   ...\n",
            "   [1.10000000e+02 9.50000000e+01 6.20000000e+01]\n",
            "   [1.10015312e+02 9.50153122e+01 6.20153084e+01]\n",
            "   [1.11000000e+02 9.60000000e+01 6.30000000e+01]]\n",
            "\n",
            "  ...\n",
            "\n",
            "  [[3.64279175e+00 2.00000000e+00 2.14263916e-01]\n",
            "   [4.62748718e+00 2.98469543e+00 1.19895935e+00]\n",
            "   [5.64279175e+00 4.00000000e+00 2.21426392e+00]\n",
            "   ...\n",
            "   [6.78111496e+01 3.97652359e+01 3.48316460e+01]\n",
            "   [6.59437408e+01 3.79284973e+01 3.34285278e+01]\n",
            "   [6.57141418e+01 3.84948807e+01 3.37091751e+01]]\n",
            "\n",
            "  [[3.00000000e+00 1.00000000e+00 2.00000000e+00]\n",
            "   [3.00000000e+00 1.00000000e+00 2.00000000e+00]\n",
            "   [3.92855835e+00 1.92855835e+00 2.92855835e+00]\n",
            "   ...\n",
            "   [6.02142029e+01 3.53570862e+01 2.98571167e+01]\n",
            "   [5.55815582e+01 3.29948959e+01 2.68571167e+01]\n",
            "   [5.50764313e+01 3.32857361e+01 2.68826332e+01]]\n",
            "\n",
            "  [[3.12756348e+00 3.12756348e+00 3.12756348e+00]\n",
            "   [3.00000000e+00 3.00000000e+00 3.00000000e+00]\n",
            "   [3.00000000e+00 3.00000000e+00 3.00000000e+00]\n",
            "   ...\n",
            "   [5.60815277e+01 3.39234695e+01 2.72142944e+01]\n",
            "   [5.28826332e+01 3.32857361e+01 2.62857361e+01]\n",
            "   [5.06428223e+01 3.16428223e+01 2.46428223e+01]]]\n",
            "\n",
            "\n",
            " [[[1.90214279e+02 1.99214279e+02 1.70928574e+02]\n",
            "   [2.16357147e+02 2.24357147e+02 2.00714279e+02]\n",
            "   [2.22244904e+02 2.26750000e+02 2.08464294e+02]\n",
            "   ...\n",
            "   [1.27265335e+02 1.51265335e+02 1.37984711e+02]\n",
            "   [1.44188828e+02 1.68260269e+02 1.52045944e+02]\n",
            "   [1.46464203e+02 1.69464203e+02 1.52290680e+02]]\n",
            "\n",
            "  [[2.07168365e+02 2.14433670e+02 1.78051025e+02]\n",
            "   [2.23193878e+02 2.30056122e+02 1.97346939e+02]\n",
            "   [2.27903061e+02 2.31943878e+02 2.05658157e+02]\n",
            "   ...\n",
            "   [1.54107422e+02 1.77806335e+02 1.67821625e+02]\n",
            "   [1.56367447e+02 1.80367447e+02 1.67285812e+02]\n",
            "   [1.71704102e+02 1.93729614e+02 1.81581650e+02]]\n",
            "\n",
            "  [[2.08923462e+02 2.13280609e+02 1.72494904e+02]\n",
            "   [2.06515305e+02 2.10872452e+02 1.71086731e+02]\n",
            "   [2.19051010e+02 2.22408157e+02 1.87959183e+02]\n",
            "   ...\n",
            "   [1.43428589e+02 1.68520416e+02 1.64306183e+02]\n",
            "   [1.50331726e+02 1.72387848e+02 1.69433746e+02]\n",
            "   [1.57806015e+02 1.78591736e+02 1.74448868e+02]]\n",
            "\n",
            "  ...\n",
            "\n",
            "  [[1.63239761e+02 1.95096939e+02 2.01030655e+02]\n",
            "   [1.55780441e+02 1.87010101e+02 2.00010086e+02]\n",
            "   [1.63989441e+02 1.92821060e+02 2.11326187e+02]\n",
            "   ...\n",
            "   [1.71591660e+02 2.08117233e+02 2.15826431e+02]\n",
            "   [1.78607086e+02 2.15607086e+02 2.24392822e+02]\n",
            "   [1.79296188e+02 2.16296188e+02 2.25081924e+02]]\n",
            "\n",
            "  [[1.70178436e+02 2.06540680e+02 2.11800888e+02]\n",
            "   [1.67846878e+02 2.01994873e+02 2.13775482e+02]\n",
            "   [1.59321411e+02 1.91892838e+02 2.11107117e+02]\n",
            "   ...\n",
            "   [1.67066345e+02 2.03637817e+02 2.11209290e+02]\n",
            "   [1.68403137e+02 2.05403137e+02 2.14403137e+02]\n",
            "   [1.76234467e+02 2.12234467e+02 2.24234467e+02]]\n",
            "\n",
            "  [[1.64183762e+02 2.03540909e+02 2.07469482e+02]\n",
            "   [1.62550751e+02 2.00622177e+02 2.11336456e+02]\n",
            "   [1.56163361e+02 1.89296066e+02 2.08510361e+02]\n",
            "   ...\n",
            "   [1.65779770e+02 2.02351242e+02 2.09769653e+02]\n",
            "   [1.67780228e+02 2.04780228e+02 2.13780228e+02]\n",
            "   [1.64765457e+02 2.00765457e+02 2.13939011e+02]]]\n",
            "\n",
            "\n",
            " [[[2.15051022e+01 3.55051003e+01 4.45051003e+01]\n",
            "   [1.88367348e+01 3.28367348e+01 4.18367348e+01]\n",
            "   [2.22653065e+01 3.52653046e+01 4.42653046e+01]\n",
            "   ...\n",
            "   [4.18009758e+01 6.08009758e+01 9.38009720e+01]\n",
            "   [2.99744854e+01 4.89744835e+01 8.19744873e+01]\n",
            "   [3.55868988e+01 5.45868988e+01 8.75868988e+01]]\n",
            "\n",
            "  [[2.31224480e+01 3.51275520e+01 4.44591827e+01]\n",
            "   [3.20051041e+01 4.48061256e+01 5.38724518e+01]\n",
            "   [2.52908173e+01 3.76479568e+01 4.68622437e+01]\n",
            "   ...\n",
            "   [3.47142410e+01 5.30714493e+01 8.62857132e+01]\n",
            "   [3.29285851e+01 5.18622475e+01 8.50612640e+01]\n",
            "   [3.71939850e+01 5.51939850e+01 9.11939850e+01]]\n",
            "\n",
            "  [[2.18520412e+01 2.94234695e+01 4.26377525e+01]\n",
            "   [3.10612240e+01 3.90306129e+01 5.20459175e+01]\n",
            "   [2.76224499e+01 3.72397957e+01 4.95459175e+01]\n",
            "   ...\n",
            "   [3.28877296e+01 4.88877296e+01 8.44592056e+01]\n",
            "   [3.44132614e+01 5.17704048e+01 8.99846878e+01]\n",
            "   [2.98009033e+01 4.78009033e+01 8.62294769e+01]]\n",
            "\n",
            "  ...\n",
            "\n",
            "  [[1.21479731e+01 7.57650089e+00 1.79076505e+00]\n",
            "   [1.53572083e+01 1.07857361e+01 5.00000000e+00]\n",
            "   [1.30000000e+01 8.42852783e+00 4.21426392e+00]\n",
            "   ...\n",
            "   [7.40311718e+00 3.83164501e+00 4.83164501e+00]\n",
            "   [4.37251568e+00 8.01043451e-01 1.80104351e+00]\n",
            "   [5.92864990e+00 2.35717773e+00 3.35717773e+00]]\n",
            "\n",
            "  [[1.84999733e+01 1.34999743e+01 7.49997377e+00]\n",
            "   [1.71326370e+01 1.21326370e+01 6.13263750e+00]\n",
            "   [1.25867643e+01 7.58676386e+00 2.01533556e+00]\n",
            "   ...\n",
            "   [9.14282227e+00 5.14282227e+00 4.14282227e+00]\n",
            "   [6.00000000e+00 2.00000000e+00 1.00000000e+00]\n",
            "   [6.00000000e+00 2.00000000e+00 1.00000000e+00]]\n",
            "\n",
            "  [[1.63572121e+01 1.13572130e+01 5.35721254e+00]\n",
            "   [2.03317699e+01 1.53317699e+01 9.33176994e+00]\n",
            "   [1.87653809e+01 1.37653809e+01 8.19395256e+00]\n",
            "   ...\n",
            "   [7.85708618e+00 1.85708618e+00 1.85708618e+00]\n",
            "   [7.00000000e+00 1.00000000e+00 1.00000000e+00]\n",
            "   [7.00000000e+00 1.00000000e+00 1.00000000e+00]]]], shape=(32, 224, 224, 3), dtype=float32) tf.Tensor(\n",
            "[[0. 1. 0. 0. 0. 0. 0. 0. 0. 0.]\n",
            " [0. 0. 0. 0. 0. 0. 0. 1. 0. 0.]\n",
            " [0. 0. 0. 0. 0. 0. 0. 1. 0. 0.]\n",
            " [0. 0. 0. 1. 0. 0. 0. 0. 0. 0.]\n",
            " [0. 0. 0. 1. 0. 0. 0. 0. 0. 0.]\n",
            " [0. 0. 1. 0. 0. 0. 0. 0. 0. 0.]\n",
            " [0. 0. 0. 0. 0. 0. 0. 0. 1. 0.]\n",
            " [0. 1. 0. 0. 0. 0. 0. 0. 0. 0.]\n",
            " [0. 0. 1. 0. 0. 0. 0. 0. 0. 0.]\n",
            " [0. 0. 0. 0. 0. 0. 1. 0. 0. 0.]\n",
            " [1. 0. 0. 0. 0. 0. 0. 0. 0. 0.]\n",
            " [0. 0. 1. 0. 0. 0. 0. 0. 0. 0.]\n",
            " [0. 0. 0. 0. 1. 0. 0. 0. 0. 0.]\n",
            " [0. 0. 0. 1. 0. 0. 0. 0. 0. 0.]\n",
            " [0. 0. 0. 0. 0. 1. 0. 0. 0. 0.]\n",
            " [0. 1. 0. 0. 0. 0. 0. 0. 0. 0.]\n",
            " [0. 0. 0. 0. 1. 0. 0. 0. 0. 0.]\n",
            " [0. 0. 0. 0. 0. 1. 0. 0. 0. 0.]\n",
            " [1. 0. 0. 0. 0. 0. 0. 0. 0. 0.]\n",
            " [0. 0. 0. 0. 0. 0. 0. 0. 1. 0.]\n",
            " [0. 0. 0. 0. 0. 1. 0. 0. 0. 0.]\n",
            " [0. 0. 0. 1. 0. 0. 0. 0. 0. 0.]\n",
            " [1. 0. 0. 0. 0. 0. 0. 0. 0. 0.]\n",
            " [1. 0. 0. 0. 0. 0. 0. 0. 0. 0.]\n",
            " [0. 0. 0. 0. 0. 1. 0. 0. 0. 0.]\n",
            " [0. 0. 0. 0. 0. 0. 0. 0. 0. 1.]\n",
            " [0. 0. 0. 1. 0. 0. 0. 0. 0. 0.]\n",
            " [0. 0. 0. 0. 0. 0. 0. 0. 1. 0.]\n",
            " [0. 0. 1. 0. 0. 0. 0. 0. 0. 0.]\n",
            " [0. 0. 0. 0. 0. 0. 1. 0. 0. 0.]\n",
            " [0. 0. 0. 0. 0. 1. 0. 0. 0. 0.]\n",
            " [0. 0. 1. 0. 0. 0. 0. 0. 0. 0.]], shape=(32, 10), dtype=float32)\n"
          ]
        }
      ]
    },
    {
      "cell_type": "markdown",
      "source": [
        "# Using tf.keras.Sequential"
      ],
      "metadata": {
        "id": "6SI96UFZhDKV"
      }
    },
    {
      "cell_type": "code",
      "source": [
        "base_model = tf.keras.applications.efficientnet_v2.EfficientNetV2B0(\n",
        "    #classes=10,\n",
        "    input_shape=IMG_SIZE + (3,),\n",
        "    include_top=False,\n",
        "    pooling=\"avg\"\n",
        "    )\n",
        "base_model.trainable = False # don't train base_model\n",
        "\n",
        "model = tf.keras.Sequential([\n",
        "    base_model,\n",
        "    tf.keras.layers.Dense(10, activation=\"softmax\")\n",
        "])\n",
        "\n",
        "model.compile(optimizer=tf.keras.optimizers.Adam(),\n",
        "              loss=tf.keras.losses.CategoricalCrossentropy(),\n",
        "              metrics=[\"accuracy\"])"
      ],
      "metadata": {
        "id": "UgrNmk-yZO4y"
      },
      "execution_count": 25,
      "outputs": []
    },
    {
      "cell_type": "code",
      "source": [
        "model.summary()"
      ],
      "metadata": {
        "colab": {
          "base_uri": "https://localhost:8080/"
        },
        "id": "FwIKvrGmeUQY",
        "outputId": "e8d835ba-6e78-480e-c61b-36fbdbd7ccc7"
      },
      "execution_count": 26,
      "outputs": [
        {
          "output_type": "stream",
          "name": "stdout",
          "text": [
            "Model: \"sequential_2\"\n",
            "_________________________________________________________________\n",
            " Layer (type)                Output Shape              Param #   \n",
            "=================================================================\n",
            " efficientnetv2-b0 (Functio  (None, 1280)              5919312   \n",
            " nal)                                                            \n",
            "                                                                 \n",
            " dense_2 (Dense)             (None, 10)                12810     \n",
            "                                                                 \n",
            "=================================================================\n",
            "Total params: 5932122 (22.63 MB)\n",
            "Trainable params: 12810 (50.04 KB)\n",
            "Non-trainable params: 5919312 (22.58 MB)\n",
            "_________________________________________________________________\n"
          ]
        }
      ]
    },
    {
      "cell_type": "code",
      "source": [
        "history1 = model.fit(train_data_10_percent,\n",
        "          steps_per_epoch=len(train_data_10_percent),\n",
        "          epochs=5,\n",
        "          validation_data=test_data,\n",
        "          validation_steps=len(test_data),\n",
        "          callbacks=[create_tensorboard_callback(\"model_hub\", \"effnet_sequ\")])"
      ],
      "metadata": {
        "colab": {
          "base_uri": "https://localhost:8080/"
        },
        "id": "Zjmv2yqObhXF",
        "outputId": "2302b90e-b8ec-4dbe-d362-d94c2b55a3fe"
      },
      "execution_count": 27,
      "outputs": [
        {
          "output_type": "stream",
          "name": "stdout",
          "text": [
            "Saving TensorBoard log files to: model_hub/effnet_sequ/20231113-164829\n",
            "Epoch 1/5\n",
            "24/24 [==============================] - 19s 378ms/step - loss: 1.8706 - accuracy: 0.4547 - val_loss: 1.3038 - val_accuracy: 0.7464\n",
            "Epoch 2/5\n",
            "24/24 [==============================] - 9s 339ms/step - loss: 1.1395 - accuracy: 0.7533 - val_loss: 0.8971 - val_accuracy: 0.8124\n",
            "Epoch 3/5\n",
            "24/24 [==============================] - 11s 440ms/step - loss: 0.8426 - accuracy: 0.8227 - val_loss: 0.7162 - val_accuracy: 0.8340\n",
            "Epoch 4/5\n",
            "24/24 [==============================] - 7s 300ms/step - loss: 0.6916 - accuracy: 0.8400 - val_loss: 0.6277 - val_accuracy: 0.8500\n",
            "Epoch 5/5\n",
            "24/24 [==============================] - 9s 372ms/step - loss: 0.5829 - accuracy: 0.8747 - val_loss: 0.5680 - val_accuracy: 0.8572\n"
          ]
        }
      ]
    },
    {
      "cell_type": "code",
      "source": [
        "plot_loss_curves(history1)"
      ],
      "metadata": {
        "colab": {
          "base_uri": "https://localhost:8080/",
          "height": 927
        },
        "id": "L1BC_Mcmdt0H",
        "outputId": "b60daa0b-5d46-4a21-db7e-9f3749879575"
      },
      "execution_count": 28,
      "outputs": [
        {
          "output_type": "display_data",
          "data": {
            "text/plain": [
              "<Figure size 640x480 with 1 Axes>"
            ],
            "image/png": "[encoded data removed]"
          },
          "metadata": {}
        },
        {
          "output_type": "display_data",
          "data": {
            "text/plain": [
              "<Figure size 640x480 with 1 Axes>"
            ],
            "image/png": "[encoded data removed]"
          },
          "metadata": {}
        }
      ]
    },
    {
      "cell_type": "markdown",
      "source": [
        "# Using Functional API"
      ],
      "metadata": {
        "id": "SyMJoU6Sg-bV"
      }
    },
    {
      "cell_type": "code",
      "source": [
        "base_model = tf.keras.applications.efficientnet_v2.EfficientNetV2B0(\n",
        "    #classes=10,\n",
        "    #input_shape=IMG_SIZE + (3,),\n",
        "    include_top=False,\n",
        "    #pooling=\"max\"\n",
        "    )\n",
        "\n",
        "base_model.trainable = False\n",
        "\n",
        "inputs = tf.keras.layers.Input(shape=IMG_SIZE + (3,), name=\"input_layer\")\n",
        "\n",
        "# x = tf.keras.layers.experimental.preprocessing.Rescaling(1/255.)(inputs)\n",
        "\n",
        "x = base_model(inputs)\n",
        "\n",
        "x = tf.keras.layers.GlobalAveragePooling2D(name=\"globalPooling\")(x)\n",
        "\n",
        "outputs = tf.keras.layers.Dense(10, activation=\"softmax\", name=\"output_layer\")(x)\n",
        "\n",
        "model_1 = tf.keras.Model(inputs, outputs)"
      ],
      "metadata": {
        "id": "BxtWAA8UhM3b"
      },
      "execution_count": 18,
      "outputs": []
    },
    {
      "cell_type": "code",
      "source": [
        "model_1.compile(optimizer=tf.keras.optimizers.Adam(),\n",
        "                loss=tf.keras.losses.CategoricalCrossentropy(),\n",
        "                metrics=[\"accuracy\"])\n",
        "\n",
        "history_1 = model_1.fit(train_data_10_percent,\n",
        "                        epochs=5,\n",
        "                        steps_per_epoch=len(train_data_10_percent),\n",
        "                        validation_data=test_data,\n",
        "                        validation_steps=len(test_data),\n",
        "                        callbacks=[create_tensorboard_callback(\"model_hub\", \"effnet_func\")])"
      ],
      "metadata": {
        "colab": {
          "base_uri": "https://localhost:8080/"
        },
        "id": "Qy4yuPegjyN3",
        "outputId": "6acc8427-30e2-404c-9023-bc0aee042deb"
      },
      "execution_count": 19,
      "outputs": [
        {
          "output_type": "stream",
          "name": "stdout",
          "text": [
            "Saving TensorBoard log files to: model_hub/effnet_func/20231113-164509\n",
            "Epoch 1/5\n",
            "24/24 [==============================] - 26s 580ms/step - loss: 1.9140 - accuracy: 0.3947 - val_loss: 1.3449 - val_accuracy: 0.7224\n",
            "Epoch 2/5\n",
            "24/24 [==============================] - 9s 352ms/step - loss: 1.1755 - accuracy: 0.7373 - val_loss: 0.9124 - val_accuracy: 0.8068\n",
            "Epoch 3/5\n",
            "24/24 [==============================] - 12s 508ms/step - loss: 0.8654 - accuracy: 0.8067 - val_loss: 0.7291 - val_accuracy: 0.8408\n",
            "Epoch 4/5\n",
            "24/24 [==============================] - 7s 284ms/step - loss: 0.6992 - accuracy: 0.8480 - val_loss: 0.6330 - val_accuracy: 0.8544\n",
            "Epoch 5/5\n",
            "24/24 [==============================] - 10s 430ms/step - loss: 0.6046 - accuracy: 0.8667 - val_loss: 0.5760 - val_accuracy: 0.8592\n"
          ]
        }
      ]
    },
    {
      "cell_type": "code",
      "source": [
        "plot_loss_curves(history_1)"
      ],
      "metadata": {
        "colab": {
          "base_uri": "https://localhost:8080/",
          "height": 927
        },
        "id": "064gdPhBkpcS",
        "outputId": "2e149e6c-dcb9-4bc1-d743-17252e5b3cf4"
      },
      "execution_count": 20,
      "outputs": [
        {
          "output_type": "display_data",
          "data": {
            "text/plain": [
              "<Figure size 640x480 with 1 Axes>"
            ],
            "image/png": "[encoded data removed]"
          },
          "metadata": {}
        },
        {
          "output_type": "display_data",
          "data": {
            "text/plain": [
              "<Figure size 640x480 with 1 Axes>"
            ],
            "image/png": "[encoded data removed]"
          },
          "metadata": {}
        }
      ]
    },
    {
      "cell_type": "code",
      "source": [],
      "metadata": {
        "id": "gagwomKKk7Is"
      },
      "execution_count": null,
      "outputs": []
    }
  ]
}