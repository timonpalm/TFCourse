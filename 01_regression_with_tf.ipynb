{
  "nbformat": 4,
  "nbformat_minor": 0,
  "metadata": {
    "colab": {
      "provenance": [],
      "authorship_tag": "ABX9TyPma+G1Q6iC9a+zqD1gKUI7",
      "include_colab_link": true
    },
    "kernelspec": {
      "name": "python3",
      "display_name": "Python 3"
    },
    "language_info": {
      "name": "python"
    }
  },
  "cells": [
    {
      "cell_type": "markdown",
      "metadata": {
        "id": "view-in-github",
        "colab_type": "text"
      },
      "source": [
        "<a href=\"https://colab.research.google.com/github/timonpalm/TFCourse/blob/main/01_regression_with_tf.ipynb\" target=\"_parent\"><img src=\"https://colab.research.google.com/assets/colab-badge.svg\" alt=\"Open In Colab\"/></a>"
      ]
    },
    {
      "cell_type": "markdown",
      "source": [
        "# Introduction to Regression with Nueral Networks in Tensorflow"
      ],
      "metadata": {
        "id": "GsvZj6jW-zP3"
      }
    },
    {
      "cell_type": "code",
      "source": [
        "import tensorflow as tf\n",
        "print(tf.__version__)"
      ],
      "metadata": {
        "colab": {
          "base_uri": "https://localhost:8080/"
        },
        "id": "qrcpj_U---rO",
        "outputId": "9fce8182-4fe0-467e-e7b7-98b05a8a3824"
      },
      "execution_count": null,
      "outputs": [
        {
          "output_type": "stream",
          "name": "stdout",
          "text": [
            "2.14.0\n"
          ]
        }
      ]
    },
    {
      "cell_type": "markdown",
      "source": [
        "## Creating some data"
      ],
      "metadata": {
        "id": "Oha3IqJJ_Qgf"
      }
    },
    {
      "cell_type": "code",
      "source": [
        "import numpy as np\n",
        "import matplotlib.pyplot as plt"
      ],
      "metadata": {
        "id": "05NTbwGm_ZCB"
      },
      "execution_count": null,
      "outputs": []
    },
    {
      "cell_type": "code",
      "source": [
        "X = np.array([-7.0, -4.0, -1.0, 2.0, 5.0, 8.0, 11.0, 14.0])"
      ],
      "metadata": {
        "id": "Gqkl3ZVFAUd2"
      },
      "execution_count": null,
      "outputs": []
    },
    {
      "cell_type": "code",
      "source": [
        "y = np.array([3.0, 6.0, 9.0, 12.0, 15.0, 18.0, 21.0, 24.0])"
      ],
      "metadata": {
        "id": "Dmg40Ks4AQE2"
      },
      "execution_count": null,
      "outputs": []
    },
    {
      "cell_type": "code",
      "source": [
        "plt.scatter(X,y)"
      ],
      "metadata": {
        "colab": {
          "base_uri": "https://localhost:8080/",
          "height": 452
        },
        "id": "hSmi9OBgAVXt",
        "outputId": "783c351d-6971-406c-bf2a-e4409eae6ea9"
      },
      "execution_count": null,
      "outputs": [
        {
          "output_type": "execute_result",
          "data": {
            "text/plain": [
              "<matplotlib.collections.PathCollection at 0x79edbcd3a320>"
            ]
          },
          "metadata": {},
          "execution_count": 30
        },
        {
          "output_type": "display_data",
          "data": {
            "text/plain": [
              "<Figure size 640x480 with 1 Axes>"
            ],
            "image/png": "[encoded data removed]"
          },
          "metadata": {}
        }
      ]
    },
    {
      "cell_type": "code",
      "source": [
        "y == X + 10"
      ],
      "metadata": {
        "colab": {
          "base_uri": "https://localhost:8080/"
        },
        "id": "K5Kwx8Z3AXsw",
        "outputId": "cf83e9f5-e5b4-4d77-f213-a250cdc92b01"
      },
      "execution_count": null,
      "outputs": [
        {
          "output_type": "execute_result",
          "data": {
            "text/plain": [
              "array([ True,  True,  True,  True,  True,  True,  True,  True])"
            ]
          },
          "metadata": {},
          "execution_count": 31
        }
      ]
    },
    {
      "cell_type": "code",
      "source": [
        "y = tf.constant(y)\n",
        "X = tf.constant(X)"
      ],
      "metadata": {
        "id": "aIczflL2AuZH"
      },
      "execution_count": null,
      "outputs": []
    },
    {
      "cell_type": "code",
      "source": [
        "tf.random.set_seed(42)\n",
        "model = tf.keras.Sequential([\n",
        "    tf.keras.layers.Dense(1)\n",
        "])"
      ],
      "metadata": {
        "id": "IS7O2m_QCHSU"
      },
      "execution_count": null,
      "outputs": []
    },
    {
      "cell_type": "code",
      "source": [
        "model.compile(loss=tf.keras.losses.mean_absolute_error,\n",
        "              optimizer=tf.keras.optimizers.SGD(),\n",
        "              metrics=[\"mae\"])"
      ],
      "metadata": {
        "id": "hw241tQADPnS"
      },
      "execution_count": null,
      "outputs": []
    },
    {
      "cell_type": "code",
      "source": [
        "model.fit(tf.expand_dims(X, axis=-1), y, epochs=100)"
      ],
      "metadata": {
        "colab": {
          "base_uri": "https://localhost:8080/"
        },
        "id": "uVuwTHffD6KJ",
        "outputId": "3370f2a9-0292-4991-ef57-e3059654ab04"
      },
      "execution_count": null,
      "outputs": [
        {
          "output_type": "stream",
          "name": "stdout",
          "text": [
            "Epoch 1/100\n",
            "1/1 [==============================] - 2s 2s/step - loss: 21.4335 - mae: 21.4335\n",
            "Epoch 2/100\n",
            "1/1 [==============================] - 0s 30ms/step - loss: 21.0404 - mae: 21.0404\n",
            "Epoch 3/100\n",
            "1/1 [==============================] - 0s 20ms/step - loss: 20.6473 - mae: 20.6473\n",
            "Epoch 4/100\n",
            "1/1 [==============================] - 0s 22ms/step - loss: 20.3085 - mae: 20.3085\n",
            "Epoch 5/100\n",
            "1/1 [==============================] - 0s 26ms/step - loss: 20.0273 - mae: 20.0273\n",
            "Epoch 6/100\n",
            "1/1 [==============================] - 0s 20ms/step - loss: 19.7460 - mae: 19.7460\n",
            "Epoch 7/100\n",
            "1/1 [==============================] - 0s 26ms/step - loss: 19.4648 - mae: 19.4648\n",
            "Epoch 8/100\n",
            "1/1 [==============================] - 0s 20ms/step - loss: 19.1835 - mae: 19.1835\n",
            "Epoch 9/100\n",
            "1/1 [==============================] - 0s 18ms/step - loss: 18.9023 - mae: 18.9023\n",
            "Epoch 10/100\n",
            "1/1 [==============================] - 0s 19ms/step - loss: 18.6210 - mae: 18.6210\n",
            "Epoch 11/100\n",
            "1/1 [==============================] - 0s 16ms/step - loss: 18.3398 - mae: 18.3398\n",
            "Epoch 12/100\n",
            "1/1 [==============================] - 0s 16ms/step - loss: 18.0585 - mae: 18.0585\n",
            "Epoch 13/100\n",
            "1/1 [==============================] - 0s 16ms/step - loss: 17.7773 - mae: 17.7773\n",
            "Epoch 14/100\n",
            "1/1 [==============================] - 0s 19ms/step - loss: 17.4960 - mae: 17.4960\n",
            "Epoch 15/100\n",
            "1/1 [==============================] - 0s 34ms/step - loss: 17.2148 - mae: 17.2148\n",
            "Epoch 16/100\n",
            "1/1 [==============================] - 0s 17ms/step - loss: 16.9335 - mae: 16.9335\n",
            "Epoch 17/100\n",
            "1/1 [==============================] - 0s 27ms/step - loss: 16.6523 - mae: 16.6523\n",
            "Epoch 18/100\n",
            "1/1 [==============================] - 0s 17ms/step - loss: 16.3710 - mae: 16.3710\n",
            "Epoch 19/100\n",
            "1/1 [==============================] - 0s 23ms/step - loss: 16.0898 - mae: 16.0898\n",
            "Epoch 20/100\n",
            "1/1 [==============================] - 0s 23ms/step - loss: 15.8085 - mae: 15.8085\n",
            "Epoch 21/100\n",
            "1/1 [==============================] - 0s 20ms/step - loss: 15.5273 - mae: 15.5273\n",
            "Epoch 22/100\n",
            "1/1 [==============================] - 0s 28ms/step - loss: 15.2460 - mae: 15.2460\n",
            "Epoch 23/100\n",
            "1/1 [==============================] - 0s 29ms/step - loss: 14.9648 - mae: 14.9648\n",
            "Epoch 24/100\n",
            "1/1 [==============================] - 0s 19ms/step - loss: 14.7065 - mae: 14.7065\n",
            "Epoch 25/100\n",
            "1/1 [==============================] - 0s 23ms/step - loss: 14.5740 - mae: 14.5740\n",
            "Epoch 26/100\n",
            "1/1 [==============================] - 0s 25ms/step - loss: 14.4415 - mae: 14.4415\n",
            "Epoch 27/100\n",
            "1/1 [==============================] - 0s 28ms/step - loss: 14.3090 - mae: 14.3090\n",
            "Epoch 28/100\n",
            "1/1 [==============================] - 0s 20ms/step - loss: 14.1765 - mae: 14.1765\n",
            "Epoch 29/100\n",
            "1/1 [==============================] - 0s 27ms/step - loss: 14.0440 - mae: 14.0440\n",
            "Epoch 30/100\n",
            "1/1 [==============================] - 0s 27ms/step - loss: 13.9115 - mae: 13.9115\n",
            "Epoch 31/100\n",
            "1/1 [==============================] - 0s 44ms/step - loss: 13.7790 - mae: 13.7790\n",
            "Epoch 32/100\n",
            "1/1 [==============================] - 0s 34ms/step - loss: 13.6465 - mae: 13.6465\n",
            "Epoch 33/100\n",
            "1/1 [==============================] - 0s 20ms/step - loss: 13.5140 - mae: 13.5140\n",
            "Epoch 34/100\n",
            "1/1 [==============================] - 0s 28ms/step - loss: 13.3815 - mae: 13.3815\n",
            "Epoch 35/100\n",
            "1/1 [==============================] - 0s 27ms/step - loss: 13.2490 - mae: 13.2490\n",
            "Epoch 36/100\n",
            "1/1 [==============================] - 0s 57ms/step - loss: 13.1165 - mae: 13.1165\n",
            "Epoch 37/100\n",
            "1/1 [==============================] - 0s 40ms/step - loss: 12.9840 - mae: 12.9840\n",
            "Epoch 38/100\n",
            "1/1 [==============================] - 0s 47ms/step - loss: 12.8515 - mae: 12.8515\n",
            "Epoch 39/100\n",
            "1/1 [==============================] - 0s 58ms/step - loss: 12.7190 - mae: 12.7190\n",
            "Epoch 40/100\n",
            "1/1 [==============================] - 0s 39ms/step - loss: 12.5865 - mae: 12.5865\n",
            "Epoch 41/100\n",
            "1/1 [==============================] - 0s 45ms/step - loss: 12.4540 - mae: 12.4540\n",
            "Epoch 42/100\n",
            "1/1 [==============================] - 0s 42ms/step - loss: 12.3215 - mae: 12.3215\n",
            "Epoch 43/100\n",
            "1/1 [==============================] - 0s 39ms/step - loss: 12.1890 - mae: 12.1890\n",
            "Epoch 44/100\n",
            "1/1 [==============================] - 0s 20ms/step - loss: 12.0565 - mae: 12.0565\n",
            "Epoch 45/100\n",
            "1/1 [==============================] - 0s 22ms/step - loss: 11.9240 - mae: 11.9240\n",
            "Epoch 46/100\n",
            "1/1 [==============================] - 0s 27ms/step - loss: 11.7915 - mae: 11.7915\n",
            "Epoch 47/100\n",
            "1/1 [==============================] - 0s 32ms/step - loss: 11.6590 - mae: 11.6590\n",
            "Epoch 48/100\n",
            "1/1 [==============================] - 0s 29ms/step - loss: 11.5265 - mae: 11.5265\n",
            "Epoch 49/100\n",
            "1/1 [==============================] - 0s 25ms/step - loss: 11.3940 - mae: 11.3940\n",
            "Epoch 50/100\n",
            "1/1 [==============================] - 0s 21ms/step - loss: 11.2615 - mae: 11.2615\n",
            "Epoch 51/100\n",
            "1/1 [==============================] - 0s 24ms/step - loss: 11.1290 - mae: 11.1290\n",
            "Epoch 52/100\n",
            "1/1 [==============================] - 0s 29ms/step - loss: 10.9965 - mae: 10.9965\n",
            "Epoch 53/100\n",
            "1/1 [==============================] - 0s 26ms/step - loss: 10.8640 - mae: 10.8640\n",
            "Epoch 54/100\n",
            "1/1 [==============================] - 0s 26ms/step - loss: 10.7315 - mae: 10.7315\n",
            "Epoch 55/100\n",
            "1/1 [==============================] - 0s 28ms/step - loss: 10.5990 - mae: 10.5990\n",
            "Epoch 56/100\n",
            "1/1 [==============================] - 0s 27ms/step - loss: 10.4665 - mae: 10.4665\n",
            "Epoch 57/100\n",
            "1/1 [==============================] - 0s 22ms/step - loss: 10.3340 - mae: 10.3340\n",
            "Epoch 58/100\n",
            "1/1 [==============================] - 0s 25ms/step - loss: 10.2015 - mae: 10.2015\n",
            "Epoch 59/100\n",
            "1/1 [==============================] - 0s 23ms/step - loss: 10.0690 - mae: 10.0690\n",
            "Epoch 60/100\n",
            "1/1 [==============================] - 0s 21ms/step - loss: 9.9365 - mae: 9.9365\n",
            "Epoch 61/100\n",
            "1/1 [==============================] - 0s 44ms/step - loss: 9.8040 - mae: 9.8040\n",
            "Epoch 62/100\n",
            "1/1 [==============================] - 0s 32ms/step - loss: 9.6715 - mae: 9.6715\n",
            "Epoch 63/100\n",
            "1/1 [==============================] - 0s 46ms/step - loss: 9.5390 - mae: 9.5390\n",
            "Epoch 64/100\n",
            "1/1 [==============================] - 0s 30ms/step - loss: 9.4065 - mae: 9.4065\n",
            "Epoch 65/100\n",
            "1/1 [==============================] - 0s 53ms/step - loss: 9.2740 - mae: 9.2740\n",
            "Epoch 66/100\n",
            "1/1 [==============================] - 0s 31ms/step - loss: 9.1415 - mae: 9.1415\n",
            "Epoch 67/100\n",
            "1/1 [==============================] - 0s 25ms/step - loss: 9.0090 - mae: 9.0090\n",
            "Epoch 68/100\n",
            "1/1 [==============================] - 0s 48ms/step - loss: 8.8765 - mae: 8.8765\n",
            "Epoch 69/100\n",
            "1/1 [==============================] - 0s 41ms/step - loss: 8.7440 - mae: 8.7440\n",
            "Epoch 70/100\n",
            "1/1 [==============================] - 0s 36ms/step - loss: 8.6115 - mae: 8.6115\n",
            "Epoch 71/100\n",
            "1/1 [==============================] - 0s 39ms/step - loss: 8.4790 - mae: 8.4790\n",
            "Epoch 72/100\n",
            "1/1 [==============================] - 0s 31ms/step - loss: 8.3465 - mae: 8.3465\n",
            "Epoch 73/100\n",
            "1/1 [==============================] - 0s 41ms/step - loss: 8.2140 - mae: 8.2140\n",
            "Epoch 74/100\n",
            "1/1 [==============================] - 0s 45ms/step - loss: 8.0815 - mae: 8.0815\n",
            "Epoch 75/100\n",
            "1/1 [==============================] - 0s 33ms/step - loss: 7.9490 - mae: 7.9490\n",
            "Epoch 76/100\n",
            "1/1 [==============================] - 0s 25ms/step - loss: 7.8165 - mae: 7.8165\n",
            "Epoch 77/100\n",
            "1/1 [==============================] - 0s 23ms/step - loss: 7.6840 - mae: 7.6840\n",
            "Epoch 78/100\n",
            "1/1 [==============================] - 0s 19ms/step - loss: 7.5515 - mae: 7.5515\n",
            "Epoch 79/100\n",
            "1/1 [==============================] - 0s 16ms/step - loss: 7.4190 - mae: 7.4190\n",
            "Epoch 80/100\n",
            "1/1 [==============================] - 0s 18ms/step - loss: 7.2865 - mae: 7.2865\n",
            "Epoch 81/100\n",
            "1/1 [==============================] - 0s 20ms/step - loss: 7.1540 - mae: 7.1540\n",
            "Epoch 82/100\n",
            "1/1 [==============================] - 0s 27ms/step - loss: 7.0215 - mae: 7.0215\n",
            "Epoch 83/100\n",
            "1/1 [==============================] - 0s 16ms/step - loss: 6.9338 - mae: 6.9338\n",
            "Epoch 84/100\n",
            "1/1 [==============================] - 0s 22ms/step - loss: 6.9281 - mae: 6.9281\n",
            "Epoch 85/100\n",
            "1/1 [==============================] - 0s 27ms/step - loss: 6.9225 - mae: 6.9225\n",
            "Epoch 86/100\n",
            "1/1 [==============================] - 0s 16ms/step - loss: 6.9169 - mae: 6.9169\n",
            "Epoch 87/100\n",
            "1/1 [==============================] - 0s 26ms/step - loss: 6.9113 - mae: 6.9113\n",
            "Epoch 88/100\n",
            "1/1 [==============================] - 0s 19ms/step - loss: 6.9056 - mae: 6.9056\n",
            "Epoch 89/100\n",
            "1/1 [==============================] - 0s 28ms/step - loss: 6.9000 - mae: 6.9000\n",
            "Epoch 90/100\n",
            "1/1 [==============================] - 0s 21ms/step - loss: 6.8944 - mae: 6.8944\n",
            "Epoch 91/100\n",
            "1/1 [==============================] - 0s 24ms/step - loss: 6.8888 - mae: 6.8888\n",
            "Epoch 92/100\n",
            "1/1 [==============================] - 0s 20ms/step - loss: 6.8831 - mae: 6.8831\n",
            "Epoch 93/100\n",
            "1/1 [==============================] - 0s 19ms/step - loss: 6.8775 - mae: 6.8775\n",
            "Epoch 94/100\n",
            "1/1 [==============================] - 0s 21ms/step - loss: 6.8719 - mae: 6.8719\n",
            "Epoch 95/100\n",
            "1/1 [==============================] - 0s 33ms/step - loss: 6.8663 - mae: 6.8663\n",
            "Epoch 96/100\n",
            "1/1 [==============================] - 0s 32ms/step - loss: 6.8606 - mae: 6.8606\n",
            "Epoch 97/100\n",
            "1/1 [==============================] - 0s 34ms/step - loss: 6.8550 - mae: 6.8550\n",
            "Epoch 98/100\n",
            "1/1 [==============================] - 0s 26ms/step - loss: 6.8494 - mae: 6.8494\n",
            "Epoch 99/100\n",
            "1/1 [==============================] - 0s 32ms/step - loss: 6.8438 - mae: 6.8438\n",
            "Epoch 100/100\n",
            "1/1 [==============================] - 0s 30ms/step - loss: 6.8381 - mae: 6.8381\n"
          ]
        },
        {
          "output_type": "execute_result",
          "data": {
            "text/plain": [
              "<keras.src.callbacks.History at 0x79edbcea10f0>"
            ]
          },
          "metadata": {},
          "execution_count": 35
        }
      ]
    },
    {
      "cell_type": "code",
      "source": [
        "model.count_params()"
      ],
      "metadata": {
        "colab": {
          "base_uri": "https://localhost:8080/"
        },
        "id": "U5vKxImoEWhB",
        "outputId": "bec14073-f3d0-48dd-ee09-bb4e4700f803"
      },
      "execution_count": null,
      "outputs": [
        {
          "output_type": "execute_result",
          "data": {
            "text/plain": [
              "2"
            ]
          },
          "metadata": {},
          "execution_count": 36
        }
      ]
    },
    {
      "cell_type": "code",
      "source": [
        "model.summary()"
      ],
      "metadata": {
        "colab": {
          "base_uri": "https://localhost:8080/"
        },
        "id": "h2LueVbXFBwC",
        "outputId": "64ebaf67-c50c-4a48-e2e3-0d81a92b6155"
      },
      "execution_count": null,
      "outputs": [
        {
          "output_type": "stream",
          "name": "stdout",
          "text": [
            "Model: \"sequential_3\"\n",
            "_________________________________________________________________\n",
            " Layer (type)                Output Shape              Param #   \n",
            "=================================================================\n",
            " dense_9 (Dense)             (None, 1)                 2         \n",
            "                                                                 \n",
            "=================================================================\n",
            "Total params: 2 (8.00 Byte)\n",
            "Trainable params: 2 (8.00 Byte)\n",
            "Non-trainable params: 0 (0.00 Byte)\n",
            "_________________________________________________________________\n"
          ]
        }
      ]
    },
    {
      "cell_type": "code",
      "source": [
        "model.predict([17.0])"
      ],
      "metadata": {
        "colab": {
          "base_uri": "https://localhost:8080/"
        },
        "id": "3wzHuBY-FSPc",
        "outputId": "32ef4486-7909-48db-a3a1-f08aa85d4f83"
      },
      "execution_count": null,
      "outputs": [
        {
          "output_type": "stream",
          "name": "stdout",
          "text": [
            "1/1 [==============================] - 0s 63ms/step\n"
          ]
        },
        {
          "output_type": "execute_result",
          "data": {
            "text/plain": [
              "array([[29.333347]], dtype=float32)"
            ]
          },
          "metadata": {},
          "execution_count": 38
        }
      ]
    },
    {
      "cell_type": "markdown",
      "source": [
        "## Improving the model"
      ],
      "metadata": {
        "id": "aNZ-4Q-3Gf9N"
      }
    },
    {
      "cell_type": "code",
      "source": [
        "tf.random.set_seed(42)\n",
        "model = tf.keras.Sequential([\n",
        "    tf.keras.layers.Dense(10, activation=\"relu\"),\n",
        "    tf.keras.layers.Dense(15, activation=\"relu\"),\n",
        "    tf.keras.layers.Dense(10, activation=\"relu\"),\n",
        "    tf.keras.layers.Dense(1),\n",
        "])"
      ],
      "metadata": {
        "id": "Hgw31JUhWFjj"
      },
      "execution_count": null,
      "outputs": []
    },
    {
      "cell_type": "code",
      "source": [
        "model.compile(\n",
        "    optimizer=tf.keras.optimizers.Adam(),\n",
        "    loss=tf.keras.losses.mae,\n",
        "    metrics=[\"mae\"]\n",
        ")"
      ],
      "metadata": {
        "id": "4lNxpBGLXaio"
      },
      "execution_count": null,
      "outputs": []
    },
    {
      "cell_type": "code",
      "source": [
        "model.fit(tf.expand_dims(X, axis=-1), y, epochs=10)"
      ],
      "metadata": {
        "colab": {
          "base_uri": "https://localhost:8080/"
        },
        "id": "Efu2lXUpX7Tx",
        "outputId": "d7ea8bd6-8f8a-418a-eef5-fbe7fb9330db"
      },
      "execution_count": null,
      "outputs": [
        {
          "output_type": "stream",
          "name": "stdout",
          "text": [
            "Epoch 1/10\n",
            "1/1 [==============================] - 1s 1s/step - loss: 13.4510 - mae: 13.4510\n",
            "Epoch 2/10\n",
            "1/1 [==============================] - 0s 14ms/step - loss: 13.4194 - mae: 13.4194\n",
            "Epoch 3/10\n",
            "1/1 [==============================] - 0s 14ms/step - loss: 13.3900 - mae: 13.3900\n",
            "Epoch 4/10\n",
            "1/1 [==============================] - 0s 17ms/step - loss: 13.3623 - mae: 13.3623\n",
            "Epoch 5/10\n",
            "1/1 [==============================] - 0s 13ms/step - loss: 13.3340 - mae: 13.3340\n",
            "Epoch 6/10\n",
            "1/1 [==============================] - 0s 12ms/step - loss: 13.3054 - mae: 13.3054\n",
            "Epoch 7/10\n",
            "1/1 [==============================] - 0s 17ms/step - loss: 13.2777 - mae: 13.2777\n",
            "Epoch 8/10\n",
            "1/1 [==============================] - 0s 13ms/step - loss: 13.2496 - mae: 13.2496\n",
            "Epoch 9/10\n",
            "1/1 [==============================] - 0s 12ms/step - loss: 13.2226 - mae: 13.2226\n",
            "Epoch 10/10\n",
            "1/1 [==============================] - 0s 13ms/step - loss: 13.1977 - mae: 13.1977\n"
          ]
        },
        {
          "output_type": "execute_result",
          "data": {
            "text/plain": [
              "<keras.src.callbacks.History at 0x79edacd39e10>"
            ]
          },
          "metadata": {},
          "execution_count": 41
        }
      ]
    },
    {
      "cell_type": "code",
      "source": [
        "X = tf.constant(np.arange(-20, 50)[:,np.newaxis])\n",
        "y = X + 10"
      ],
      "metadata": {
        "id": "cIjlfcs-cJO-"
      },
      "execution_count": null,
      "outputs": []
    },
    {
      "cell_type": "code",
      "source": [
        "X[:10], y[:10]"
      ],
      "metadata": {
        "colab": {
          "base_uri": "https://localhost:8080/"
        },
        "id": "xCN9_MVRcL5A",
        "outputId": "4620a0c9-773f-4fe7-8385-cefd3fc4b767"
      },
      "execution_count": null,
      "outputs": [
        {
          "output_type": "execute_result",
          "data": {
            "text/plain": [
              "(<tf.Tensor: shape=(10, 1), dtype=int64, numpy=\n",
              " array([[-20],\n",
              "        [-19],\n",
              "        [-18],\n",
              "        [-17],\n",
              "        [-16],\n",
              "        [-15],\n",
              "        [-14],\n",
              "        [-13],\n",
              "        [-12],\n",
              "        [-11]])>,\n",
              " <tf.Tensor: shape=(10, 1), dtype=int64, numpy=\n",
              " array([[-10],\n",
              "        [ -9],\n",
              "        [ -8],\n",
              "        [ -7],\n",
              "        [ -6],\n",
              "        [ -5],\n",
              "        [ -4],\n",
              "        [ -3],\n",
              "        [ -2],\n",
              "        [ -1]])>)"
            ]
          },
          "metadata": {},
          "execution_count": 43
        }
      ]
    },
    {
      "cell_type": "code",
      "source": [
        "X.shape, y.shape"
      ],
      "metadata": {
        "colab": {
          "base_uri": "https://localhost:8080/"
        },
        "id": "2JxcjjmpaxhO",
        "outputId": "cba7e3f3-07d8-44ca-8e3c-417cc2007ee1"
      },
      "execution_count": null,
      "outputs": [
        {
          "output_type": "execute_result",
          "data": {
            "text/plain": [
              "(TensorShape([70, 1]), TensorShape([70, 1]))"
            ]
          },
          "metadata": {},
          "execution_count": 44
        }
      ]
    },
    {
      "cell_type": "code",
      "source": [
        "model = tf.keras.Sequential([\n",
        "    tf.keras.layers.Dense(10, activation=\"relu\"),\n",
        "    tf.keras.layers.Dense(15, activation=\"relu\"),\n",
        "    tf.keras.layers.Dense(10, activation=\"relu\"),\n",
        "    tf.keras.layers.Dense(1)\n",
        "])"
      ],
      "metadata": {
        "id": "Txgqez3RbClP"
      },
      "execution_count": null,
      "outputs": []
    },
    {
      "cell_type": "code",
      "source": [
        "model.compile(\n",
        "    optimizer=tf.keras.optimizers.Adam(learning_rate=0.001),\n",
        "    loss=tf.keras.losses.MSE,\n",
        "    metrics=[\"mse\"]\n",
        ")"
      ],
      "metadata": {
        "id": "Ndw0M9mEbKei"
      },
      "execution_count": null,
      "outputs": []
    },
    {
      "cell_type": "code",
      "source": [
        "model.fit(X,y,epochs=100)"
      ],
      "metadata": {
        "colab": {
          "base_uri": "https://localhost:8080/"
        },
        "id": "hCrf7BbLb1xt",
        "outputId": "803cece9-6d17-4c6b-cd3c-edaa2228b946"
      },
      "execution_count": null,
      "outputs": [
        {
          "output_type": "stream",
          "name": "stdout",
          "text": [
            "Epoch 1/100\n",
            "3/3 [==============================] - 1s 7ms/step - loss: 1172.2743 - mse: 1172.2743\n",
            "Epoch 2/100\n",
            "3/3 [==============================] - 0s 7ms/step - loss: 1153.9346 - mse: 1153.9346\n",
            "Epoch 3/100\n",
            "3/3 [==============================] - 0s 6ms/step - loss: 1135.8690 - mse: 1135.8690\n",
            "Epoch 4/100\n",
            "3/3 [==============================] - 0s 6ms/step - loss: 1118.5786 - mse: 1118.5786\n",
            "Epoch 5/100\n",
            "3/3 [==============================] - 0s 6ms/step - loss: 1101.2400 - mse: 1101.2400\n",
            "Epoch 6/100\n",
            "3/3 [==============================] - 0s 6ms/step - loss: 1084.4056 - mse: 1084.4056\n",
            "Epoch 7/100\n",
            "3/3 [==============================] - 0s 6ms/step - loss: 1070.6818 - mse: 1070.6818\n",
            "Epoch 8/100\n",
            "3/3 [==============================] - 0s 7ms/step - loss: 1060.9586 - mse: 1060.9586\n",
            "Epoch 9/100\n",
            "3/3 [==============================] - 0s 6ms/step - loss: 1051.7671 - mse: 1051.7671\n",
            "Epoch 10/100\n",
            "3/3 [==============================] - 0s 6ms/step - loss: 1041.8041 - mse: 1041.8041\n",
            "Epoch 11/100\n",
            "3/3 [==============================] - 0s 6ms/step - loss: 1032.2679 - mse: 1032.2679\n",
            "Epoch 12/100\n",
            "3/3 [==============================] - 0s 6ms/step - loss: 1021.8201 - mse: 1021.8201\n",
            "Epoch 13/100\n",
            "3/3 [==============================] - 0s 9ms/step - loss: 1012.3900 - mse: 1012.3900\n",
            "Epoch 14/100\n",
            "3/3 [==============================] - 0s 5ms/step - loss: 1002.9341 - mse: 1002.9341\n",
            "Epoch 15/100\n",
            "3/3 [==============================] - 0s 5ms/step - loss: 992.2986 - mse: 992.2986\n",
            "Epoch 16/100\n",
            "3/3 [==============================] - 0s 5ms/step - loss: 982.4622 - mse: 982.4622\n",
            "Epoch 17/100\n",
            "3/3 [==============================] - 0s 6ms/step - loss: 976.4522 - mse: 976.4522\n",
            "Epoch 18/100\n",
            "3/3 [==============================] - 0s 6ms/step - loss: 972.5388 - mse: 972.5388\n",
            "Epoch 19/100\n",
            "3/3 [==============================] - 0s 5ms/step - loss: 968.6223 - mse: 968.6223\n",
            "Epoch 20/100\n",
            "3/3 [==============================] - 0s 6ms/step - loss: 964.6741 - mse: 964.6741\n",
            "Epoch 21/100\n",
            "3/3 [==============================] - 0s 10ms/step - loss: 960.2847 - mse: 960.2847\n",
            "Epoch 22/100\n",
            "3/3 [==============================] - 0s 8ms/step - loss: 952.0614 - mse: 952.0614\n",
            "Epoch 23/100\n",
            "3/3 [==============================] - 0s 7ms/step - loss: 937.9531 - mse: 937.9531\n",
            "Epoch 24/100\n",
            "3/3 [==============================] - 0s 8ms/step - loss: 920.7676 - mse: 920.7676\n",
            "Epoch 25/100\n",
            "3/3 [==============================] - 0s 6ms/step - loss: 902.6368 - mse: 902.6368\n",
            "Epoch 26/100\n",
            "3/3 [==============================] - 0s 7ms/step - loss: 883.9258 - mse: 883.9258\n",
            "Epoch 27/100\n",
            "3/3 [==============================] - 0s 7ms/step - loss: 863.2605 - mse: 863.2605\n",
            "Epoch 28/100\n",
            "3/3 [==============================] - 0s 6ms/step - loss: 843.2669 - mse: 843.2669\n",
            "Epoch 29/100\n",
            "3/3 [==============================] - 0s 7ms/step - loss: 820.9471 - mse: 820.9471\n",
            "Epoch 30/100\n",
            "3/3 [==============================] - 0s 7ms/step - loss: 795.8417 - mse: 795.8417\n",
            "Epoch 31/100\n",
            "3/3 [==============================] - 0s 6ms/step - loss: 763.4940 - mse: 763.4940\n",
            "Epoch 32/100\n",
            "3/3 [==============================] - 0s 7ms/step - loss: 732.7039 - mse: 732.7039\n",
            "Epoch 33/100\n",
            "3/3 [==============================] - 0s 7ms/step - loss: 698.9490 - mse: 698.9490\n",
            "Epoch 34/100\n",
            "3/3 [==============================] - 0s 7ms/step - loss: 664.4066 - mse: 664.4066\n",
            "Epoch 35/100\n",
            "3/3 [==============================] - 0s 6ms/step - loss: 628.9354 - mse: 628.9354\n",
            "Epoch 36/100\n",
            "3/3 [==============================] - 0s 8ms/step - loss: 594.5273 - mse: 594.5273\n",
            "Epoch 37/100\n",
            "3/3 [==============================] - 0s 8ms/step - loss: 563.0959 - mse: 563.0959\n",
            "Epoch 38/100\n",
            "3/3 [==============================] - 0s 9ms/step - loss: 530.0785 - mse: 530.0785\n",
            "Epoch 39/100\n",
            "3/3 [==============================] - 0s 8ms/step - loss: 498.1051 - mse: 498.1051\n",
            "Epoch 40/100\n",
            "3/3 [==============================] - 0s 7ms/step - loss: 468.1335 - mse: 468.1335\n",
            "Epoch 41/100\n",
            "3/3 [==============================] - 0s 8ms/step - loss: 439.0843 - mse: 439.0843\n",
            "Epoch 42/100\n",
            "3/3 [==============================] - 0s 7ms/step - loss: 409.8135 - mse: 409.8135\n",
            "Epoch 43/100\n",
            "3/3 [==============================] - 0s 7ms/step - loss: 378.5317 - mse: 378.5317\n",
            "Epoch 44/100\n",
            "3/3 [==============================] - 0s 8ms/step - loss: 350.8178 - mse: 350.8178\n",
            "Epoch 45/100\n",
            "3/3 [==============================] - 0s 7ms/step - loss: 322.2819 - mse: 322.2819\n",
            "Epoch 46/100\n",
            "3/3 [==============================] - 0s 6ms/step - loss: 296.1710 - mse: 296.1710\n",
            "Epoch 47/100\n",
            "3/3 [==============================] - 0s 7ms/step - loss: 270.0774 - mse: 270.0774\n",
            "Epoch 48/100\n",
            "3/3 [==============================] - 0s 6ms/step - loss: 243.9853 - mse: 243.9853\n",
            "Epoch 49/100\n",
            "3/3 [==============================] - 0s 10ms/step - loss: 219.7002 - mse: 219.7002\n",
            "Epoch 50/100\n",
            "3/3 [==============================] - 0s 10ms/step - loss: 195.0852 - mse: 195.0852\n",
            "Epoch 51/100\n",
            "3/3 [==============================] - 0s 7ms/step - loss: 172.8055 - mse: 172.8055\n",
            "Epoch 52/100\n",
            "3/3 [==============================] - 0s 6ms/step - loss: 150.9769 - mse: 150.9769\n",
            "Epoch 53/100\n",
            "3/3 [==============================] - 0s 6ms/step - loss: 131.2862 - mse: 131.2862\n",
            "Epoch 54/100\n",
            "3/3 [==============================] - 0s 7ms/step - loss: 112.2796 - mse: 112.2796\n",
            "Epoch 55/100\n",
            "3/3 [==============================] - 0s 7ms/step - loss: 96.5453 - mse: 96.5453\n",
            "Epoch 56/100\n",
            "3/3 [==============================] - 0s 7ms/step - loss: 81.7697 - mse: 81.7697\n",
            "Epoch 57/100\n",
            "3/3 [==============================] - 0s 5ms/step - loss: 69.3492 - mse: 69.3492\n",
            "Epoch 58/100\n",
            "3/3 [==============================] - 0s 6ms/step - loss: 59.1051 - mse: 59.1051\n",
            "Epoch 59/100\n",
            "3/3 [==============================] - 0s 8ms/step - loss: 49.6422 - mse: 49.6422\n",
            "Epoch 60/100\n",
            "3/3 [==============================] - 0s 5ms/step - loss: 42.2779 - mse: 42.2779\n",
            "Epoch 61/100\n",
            "3/3 [==============================] - 0s 5ms/step - loss: 36.0983 - mse: 36.0983\n",
            "Epoch 62/100\n",
            "3/3 [==============================] - 0s 5ms/step - loss: 31.0260 - mse: 31.0260\n",
            "Epoch 63/100\n",
            "3/3 [==============================] - 0s 6ms/step - loss: 27.0629 - mse: 27.0629\n",
            "Epoch 64/100\n",
            "3/3 [==============================] - 0s 5ms/step - loss: 24.2073 - mse: 24.2073\n",
            "Epoch 65/100\n",
            "3/3 [==============================] - 0s 5ms/step - loss: 22.1199 - mse: 22.1199\n",
            "Epoch 66/100\n",
            "3/3 [==============================] - 0s 5ms/step - loss: 20.5606 - mse: 20.5606\n",
            "Epoch 67/100\n",
            "3/3 [==============================] - 0s 6ms/step - loss: 19.3685 - mse: 19.3685\n",
            "Epoch 68/100\n",
            "3/3 [==============================] - 0s 6ms/step - loss: 18.2732 - mse: 18.2732\n",
            "Epoch 69/100\n",
            "3/3 [==============================] - 0s 6ms/step - loss: 17.3654 - mse: 17.3654\n",
            "Epoch 70/100\n",
            "3/3 [==============================] - 0s 6ms/step - loss: 16.9951 - mse: 16.9951\n",
            "Epoch 71/100\n",
            "3/3 [==============================] - 0s 8ms/step - loss: 16.9918 - mse: 16.9918\n",
            "Epoch 72/100\n",
            "3/3 [==============================] - 0s 6ms/step - loss: 16.9561 - mse: 16.9561\n",
            "Epoch 73/100\n",
            "3/3 [==============================] - 0s 6ms/step - loss: 16.7809 - mse: 16.7809\n",
            "Epoch 74/100\n",
            "3/3 [==============================] - 0s 6ms/step - loss: 16.4100 - mse: 16.4100\n",
            "Epoch 75/100\n",
            "3/3 [==============================] - 0s 6ms/step - loss: 15.9001 - mse: 15.9001\n",
            "Epoch 76/100\n",
            "3/3 [==============================] - 0s 6ms/step - loss: 15.8691 - mse: 15.8691\n",
            "Epoch 77/100\n",
            "3/3 [==============================] - 0s 6ms/step - loss: 15.7175 - mse: 15.7175\n",
            "Epoch 78/100\n",
            "3/3 [==============================] - 0s 8ms/step - loss: 15.5444 - mse: 15.5444\n",
            "Epoch 79/100\n",
            "3/3 [==============================] - 0s 6ms/step - loss: 15.3452 - mse: 15.3452\n",
            "Epoch 80/100\n",
            "3/3 [==============================] - 0s 7ms/step - loss: 15.1671 - mse: 15.1671\n",
            "Epoch 81/100\n",
            "3/3 [==============================] - 0s 6ms/step - loss: 15.0113 - mse: 15.0113\n",
            "Epoch 82/100\n",
            "3/3 [==============================] - 0s 6ms/step - loss: 15.0298 - mse: 15.0298\n",
            "Epoch 83/100\n",
            "3/3 [==============================] - 0s 7ms/step - loss: 14.9189 - mse: 14.9189\n",
            "Epoch 84/100\n",
            "3/3 [==============================] - 0s 8ms/step - loss: 14.6625 - mse: 14.6625\n",
            "Epoch 85/100\n",
            "3/3 [==============================] - 0s 5ms/step - loss: 14.4420 - mse: 14.4420\n",
            "Epoch 86/100\n",
            "3/3 [==============================] - 0s 5ms/step - loss: 14.2634 - mse: 14.2634\n",
            "Epoch 87/100\n",
            "3/3 [==============================] - 0s 6ms/step - loss: 14.1083 - mse: 14.1083\n",
            "Epoch 88/100\n",
            "3/3 [==============================] - 0s 5ms/step - loss: 13.9287 - mse: 13.9287\n",
            "Epoch 89/100\n",
            "3/3 [==============================] - 0s 6ms/step - loss: 13.7512 - mse: 13.7512\n",
            "Epoch 90/100\n",
            "3/3 [==============================] - 0s 5ms/step - loss: 13.5710 - mse: 13.5710\n",
            "Epoch 91/100\n",
            "3/3 [==============================] - 0s 7ms/step - loss: 13.2891 - mse: 13.2891\n",
            "Epoch 92/100\n",
            "3/3 [==============================] - 0s 6ms/step - loss: 13.2020 - mse: 13.2020\n",
            "Epoch 93/100\n",
            "3/3 [==============================] - 0s 8ms/step - loss: 12.8621 - mse: 12.8621\n",
            "Epoch 94/100\n",
            "3/3 [==============================] - 0s 8ms/step - loss: 12.6286 - mse: 12.6286\n",
            "Epoch 95/100\n",
            "3/3 [==============================] - 0s 6ms/step - loss: 12.5337 - mse: 12.5337\n",
            "Epoch 96/100\n",
            "3/3 [==============================] - 0s 6ms/step - loss: 12.4596 - mse: 12.4596\n",
            "Epoch 97/100\n",
            "3/3 [==============================] - 0s 7ms/step - loss: 12.2983 - mse: 12.2983\n",
            "Epoch 98/100\n",
            "3/3 [==============================] - 0s 5ms/step - loss: 12.0742 - mse: 12.0742\n",
            "Epoch 99/100\n",
            "3/3 [==============================] - 0s 6ms/step - loss: 11.9490 - mse: 11.9490\n",
            "Epoch 100/100\n",
            "3/3 [==============================] - 0s 7ms/step - loss: 11.8629 - mse: 11.8629\n"
          ]
        },
        {
          "output_type": "execute_result",
          "data": {
            "text/plain": [
              "<keras.src.callbacks.History at 0x79edbcba2680>"
            ]
          },
          "metadata": {},
          "execution_count": 47
        }
      ]
    },
    {
      "cell_type": "code",
      "source": [
        "test = tf.range(-100,100,4)\n",
        "gt = test + 10\n",
        "res = model.predict(test)"
      ],
      "metadata": {
        "colab": {
          "base_uri": "https://localhost:8080/"
        },
        "id": "Zi1wNHKtb5xk",
        "outputId": "80678fd6-c3c1-4003-a145-594a50aedefe"
      },
      "execution_count": null,
      "outputs": [
        {
          "output_type": "stream",
          "name": "stdout",
          "text": [
            "2/2 [==============================] - 0s 6ms/step\n"
          ]
        }
      ]
    },
    {
      "cell_type": "code",
      "source": [
        "plt.scatter(test, gt)\n",
        "plt.scatter(test, res)"
      ],
      "metadata": {
        "colab": {
          "base_uri": "https://localhost:8080/",
          "height": 447
        },
        "id": "S8n_M9YPb_aD",
        "outputId": "dcff3b09-6f17-4055-c83c-4fa2a2a7955c"
      },
      "execution_count": null,
      "outputs": [
        {
          "output_type": "execute_result",
          "data": {
            "text/plain": [
              "<matplotlib.collections.PathCollection at 0x79edbc98c730>"
            ]
          },
          "metadata": {},
          "execution_count": 49
        },
        {
          "output_type": "display_data",
          "data": {
            "text/plain": [
              "<Figure size 640x480 with 1 Axes>"
            ],
            "image/png": "[encoded data removed]"
          },
          "metadata": {}
        }
      ]
    },
    {
      "cell_type": "code",
      "source": [
        "n = len(X)\n",
        "split_idx = int(n * .7)\n",
        "X_train = X[:split_idx]\n",
        "y_train = y[:split_idx]\n",
        "X_test = X[split_idx:]\n",
        "y_test = y[split_idx:]"
      ],
      "metadata": {
        "id": "cf2bsPpWgvG8"
      },
      "execution_count": null,
      "outputs": []
    },
    {
      "cell_type": "code",
      "source": [],
      "metadata": {
        "id": "apceBECxiumy"
      },
      "execution_count": null,
      "outputs": []
    }
  ]
}