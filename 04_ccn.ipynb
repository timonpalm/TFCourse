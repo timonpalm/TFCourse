{
 "cells": [
  {
   "cell_type": "code",
   "execution_count": 13,
   "metadata": {},
   "outputs": [
    {
     "name": "stdout",
     "output_type": "stream",
     "text": [
      "--2023-11-01 21:37:26--  https://storage.googleapis.com/ztm_tf_course/food_vision/pizza_steak.zip\n",
      "Resolving storage.googleapis.com (storage.googleapis.com)... 2a00:1450:4016:80c::201b, 2a00:1450:4016:80a::201b, 2a00:1450:4016:809::201b, ...\n",
      "Connecting to storage.googleapis.com (storage.googleapis.com)|2a00:1450:4016:80c::201b|:443... "
     ]
    },
    {
     "name": "stdout",
     "output_type": "stream",
     "text": [
      "connected.\n",
      "HTTP request sent, awaiting response... 200 OK\n",
      "Length: 109540975 (104M) [application/zip]\n",
      "Saving to: ‘pizza_steak.zip.1’\n",
      "\n",
      "pizza_steak.zip.1   100%[===================>] 104,47M  6,51MB/s    in 17s     \n",
      "\n",
      "2023-11-01 21:37:43 (6,25 MB/s) - ‘pizza_steak.zip.1’ saved [109540975/109540975]\n",
      "\n"
     ]
    }
   ],
   "source": [
    "import zipfile\n",
    "\n",
    "#!wget https://storage.googleapis.com/ztm_tf_course/food_vision/pizza_steak.zip"
   ]
  },
  {
   "cell_type": "code",
   "execution_count": 14,
   "metadata": {},
   "outputs": [],
   "source": [
    "# Unzip\n",
    "# zip_ref = zipfile.ZipFile(\"pizza_steak.zip\")\n",
    "# zip_ref.extractall()\n",
    "# zip_ref.close()"
   ]
  },
  {
   "cell_type": "code",
   "execution_count": 15,
   "metadata": {},
   "outputs": [
    {
     "name": "stdout",
     "output_type": "stream",
     "text": [
      "There are 2 directories and 0 images in pizza_steak\n",
      "There are 2 directories and 0 images in pizza_steak/train\n",
      "There are 0 directories and 750 images in pizza_steak/train/pizza\n",
      "There are 0 directories and 750 images in pizza_steak/train/steak\n",
      "There are 2 directories and 0 images in pizza_steak/test\n",
      "There are 0 directories and 250 images in pizza_steak/test/pizza\n",
      "There are 0 directories and 250 images in pizza_steak/test/steak\n"
     ]
    }
   ],
   "source": [
    "import os\n",
    "\n",
    "for dirpath, dirnames, filenames in os.walk(\"pizza_steak\"):\n",
    "    print(f\"There are {len(dirnames)} directories and {len(filenames)} images in {dirpath}\")"
   ]
  },
  {
   "cell_type": "code",
   "execution_count": 16,
   "metadata": {},
   "outputs": [
    {
     "data": {
      "text/plain": [
       "750"
      ]
     },
     "execution_count": 16,
     "metadata": {},
     "output_type": "execute_result"
    }
   ],
   "source": [
    "len(os.listdir(\"pizza_steak/train/pizza\"))"
   ]
  },
  {
   "cell_type": "code",
   "execution_count": 17,
   "metadata": {},
   "outputs": [],
   "source": [
    "import tensorflow as tf\n",
    "from tensorflow.keras.preprocessing.image import ImageDataGenerator"
   ]
  },
  {
   "cell_type": "code",
   "execution_count": 18,
   "metadata": {},
   "outputs": [
    {
     "name": "stdout",
     "output_type": "stream",
     "text": [
      "Found 1500 images belonging to 2 classes.\n",
      "Found 500 images belonging to 2 classes.\n"
     ]
    }
   ],
   "source": [
    "tf.random.set_seed(42)\n",
    "\n",
    "# Preprocess data (Scaling/Normalization)\n",
    "train_datagen = ImageDataGenerator(rescale=1./255.)\n",
    "valid_datagen = ImageDataGenerator(rescale=1./255.)\n",
    "\n",
    "train_dir = \"/home/timon/Projects/TFCourse/pizza_steak/train\"\n",
    "test_dir = \"/home/timon/Projects/TFCourse/pizza_steak/test\"\n",
    "\n",
    "train_data = train_datagen.flow_from_directory(\n",
    "    directory=train_dir,\n",
    "    batch_size=32,\n",
    "    target_size=(224,224),\n",
    "    class_mode=\"binary\",\n",
    "    seed=42)\n",
    "\n",
    "valid_data = valid_datagen.flow_from_directory(\n",
    "    directory=test_dir,\n",
    "    batch_size=32,\n",
    "    target_size=(224, 224),\n",
    "    class_mode=\"binary\",\n",
    "    seed=42)"
   ]
  },
  {
   "cell_type": "code",
   "execution_count": 20,
   "metadata": {},
   "outputs": [
    {
     "name": "stdout",
     "output_type": "stream",
     "text": [
      "Epoch 1/5\n",
      "47/47 [==============================] - 50s 1s/step - loss: 0.5898 - accuracy: 0.6787\n",
      "Epoch 2/5\n",
      "47/47 [==============================] - 48s 1s/step - loss: 0.4545 - accuracy: 0.7927\n",
      "Epoch 3/5\n",
      "47/47 [==============================] - 47s 995ms/step - loss: 0.4176 - accuracy: 0.8213\n",
      "Epoch 4/5\n",
      "47/47 [==============================] - 48s 1s/step - loss: 0.3482 - accuracy: 0.8560\n",
      "Epoch 5/5\n",
      "47/47 [==============================] - 49s 1s/step - loss: 0.2501 - accuracy: 0.9060\n"
     ]
    }
   ],
   "source": [
    "model = tf.keras.models.Sequential([\n",
    "    tf.keras.layers.Conv2D(10,\n",
    "                           3,\n",
    "                           activation=\"relu\",\n",
    "                           input_shape=(224,224,3)),\n",
    "    tf.keras.layers.Conv2D(filters=10, kernel_size=3, activation=\"relu\"),\n",
    "    tf.keras.layers.MaxPool2D(pool_size=2,\n",
    "                              padding=\"valid\"),\n",
    "    tf.keras.layers.Conv2D(filters=10, kernel_size=3, activation=\"relu\"),\n",
    "    tf.keras.layers.Conv2D(filters=10, kernel_size=3, activation=\"relu\"),\n",
    "    tf.keras.layers.MaxPool2D(2),\n",
    "    tf.keras.layers.Flatten(),\n",
    "    tf.keras.layers.Dense(1, activation=\"sigmoid\")\n",
    "])\n",
    "\n",
    "model.compile(optimizer=tf.keras.optimizers.Adam(),\n",
    "              loss=tf.keras.losses.BinaryCrossentropy(),\n",
    "              metrics=[\"accuracy\"])\n",
    "\n",
    "history = model.fit(train_data,\n",
    "                    epochs=5,\n",
    "                    steps_per_epoch=len(train_data),\n",
    "                    validation_data=valid_data,\n",
    "                    validation_steps=len(valid_data))"
   ]
  },
  {
   "cell_type": "code",
   "execution_count": null,
   "metadata": {},
   "outputs": [],
   "source": []
  }
 ],
 "metadata": {
  "kernelspec": {
   "display_name": "Python 3",
   "language": "python",
   "name": "python3"
  },
  "language_info": {
   "codemirror_mode": {
    "name": "ipython",
    "version": 3
   },
   "file_extension": ".py",
   "mimetype": "text/x-python",
   "name": "python",
   "nbconvert_exporter": "python",
   "pygments_lexer": "ipython3",
   "version": "3.10.12"
  }
 },
 "nbformat": 4,
 "nbformat_minor": 2
}
